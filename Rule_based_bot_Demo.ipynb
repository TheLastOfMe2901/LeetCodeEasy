{
  "nbformat": 4,
  "nbformat_minor": 0,
  "metadata": {
    "colab": {
      "provenance": [],
      "authorship_tag": "ABX9TyNRgROmJJgF5qKf7kjA3/nr",
      "include_colab_link": true
    },
    "kernelspec": {
      "name": "python3",
      "display_name": "Python 3"
    },
    "language_info": {
      "name": "python"
    }
  },
  "cells": [
    {
      "cell_type": "markdown",
      "metadata": {
        "id": "view-in-github",
        "colab_type": "text"
      },
      "source": [
        "<a href=\"https://colab.research.google.com/github/TheLastOfMe2901/LeetCodeEasy/blob/main/Rule_based_bot_Demo.ipynb\" target=\"_parent\"><img src=\"https://colab.research.google.com/assets/colab-badge.svg\" alt=\"Open In Colab\"/></a>"
      ]
    },
    {
      "cell_type": "code",
      "source": [
        "import re\n",
        "import random\n",
        "\n",
        "class RuleBot:\n",
        "  ### Potential Negative Responses\n",
        "  negative_responses= (\"no\",\"nope\",\"nah\",\"naw\",\"not a chance\",\"sorry\")\n",
        "  ### Exit conversation Keywords\n",
        "  exit_commands = (\"quit\",\"pause\",\"exit\",\"goodbye\",\"bye\",\"later\")\n",
        "  ### Random Starter Questions\n",
        "  random_questions = (\"Why are you here\",\"Are there nany humans like you?\"\n",
        "  ,\"What do you consume for sustenance\",\"Is there intelligent life on this planet\"\n",
        "  ,\"Does Earth have a leader\",\"What planets have you visited\",\n",
        "  \"What technology dod you have on this planet?\")\n",
        "\n",
        "\n",
        "\n",
        "\n"
      ],
      "metadata": {
        "id": "xlfbUknevgOp"
      },
      "execution_count": 4,
      "outputs": []
    }
  ]
}